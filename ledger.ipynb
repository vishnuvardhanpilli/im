{
 "cells": [
  {
   "cell_type": "code",
   "execution_count": 1,
   "id": "e59aa3bc",
   "metadata": {},
   "outputs": [
    {
     "name": "stdout",
     "output_type": "stream",
     "text": [
      "Sales ledger saved to 'sales_ledger.csv'\n"
     ]
    }
   ],
   "source": [
    "import pandas as pd\n",
    "import ast\n",
    "\n",
    "\n",
    "df = pd.read_csv(\"bills.csv\")\n",
    "\n",
    "\n",
    "def safe_eval(x):\n",
    "    try:\n",
    "        return ast.literal_eval(x)\n",
    "    except:\n",
    "        return []\n",
    "\n",
    "df[\"Product_IDs\"] = df[\"Product_IDs\"].apply(safe_eval)\n",
    "df[\"Quantities\"] = df[\"Quantities\"].apply(safe_eval)\n",
    "df[\"Discounted_Prices\"] = df[\"Discounted_Prices\"].apply(safe_eval)\n",
    "df[\"Products_With_Brands\"] = df[\"Products_With_Brands\"].apply(safe_eval)\n",
    "\n",
    "\n",
    "expanded_rows = []\n",
    "\n",
    "for _, row in df.iterrows():\n",
    "    for pid, qty, price, pname in zip(\n",
    "        row[\"Product_IDs\"], \n",
    "        row[\"Quantities\"], \n",
    "        row[\"Discounted_Prices\"], \n",
    "        row[\"Products_With_Brands\"]\n",
    "    ):\n",
    "        expanded_rows.append({\n",
    "            \"Bill_ID\": row[\"Bill_ID\"],\n",
    "            \"Date_Time\": row[\"Date_Time\"],\n",
    "            \"Product_ID\": pid,\n",
    "            \"Product_Name\": pname,\n",
    "            \"Quantity_Sold\": qty,\n",
    "            \"Sale_Price\": price,\n",
    "            \"Customer_Mobile\": row[\"Mobile_Number\"],\n",
    "            \"Payment_Method\": row[\"Payment_Method\"]\n",
    "        })\n",
    "\n",
    "df_items = pd.DataFrame(expanded_rows)\n",
    "\n",
    "sales_ledger = df_items.groupby([\"Product_ID\", \"Product_Name\"]).agg(\n",
    "    Total_Sold=(\"Quantity_Sold\", \"sum\"),\n",
    "    Total_Revenue=(\"Sale_Price\", \"sum\"),\n",
    "    Avg_Price=(\"Sale_Price\", \"mean\"),\n",
    "    Bills_Count=(\"Bill_ID\", \"count\")\n",
    ").reset_index()\n",
    "\n",
    "\n",
    "sales_ledger.to_csv(\"sales_ledger.csv\", index=False)\n",
    "\n",
    "print(\"Sales ledger saved to 'sales_ledger.csv'\")\n"
   ]
  }
 ],
 "metadata": {
  "kernelspec": {
   "display_name": "aac (3.12.10)",
   "language": "python",
   "name": "python3"
  },
  "language_info": {
   "codemirror_mode": {
    "name": "ipython",
    "version": 3
   },
   "file_extension": ".py",
   "mimetype": "text/x-python",
   "name": "python",
   "nbconvert_exporter": "python",
   "pygments_lexer": "ipython3",
   "version": "3.12.10"
  }
 },
 "nbformat": 4,
 "nbformat_minor": 5
}
